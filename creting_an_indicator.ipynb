{
 "cells": [
  {
   "cell_type": "markdown",
   "metadata": {},
   "source": [
    "## Instructions of the question\n",
    "\n",
    "TA-Lib is a widely used library for performing a technical analysis of price series data.\n",
    "In this exercise, you are required to calculate SAR (Parabolic Stop and Reverse).\n",
    "\n",
    "Syntax: 'numpy.array(object)'\n",
    "Returns a numpy array for input object\n",
    "Instructions\n",
    "\n",
    "In this exercise, you are required to code one lines:\n",
    "1. Assign to 'SAR' column of the data frame 'Df', output of 'ta.SAR' function with below arguments:    \n",
    "   a. Numpy array of ‘High’ values shifted by 1     \n",
    "   b. Numpy array of ‘Low’ values shifted by 1    \n",
    "   c. Acceleration Factor = '0.2'     \n",
    "   d. Maximum Step = '0.2'"
   ]
  },
  {
   "cell_type": "code",
   "execution_count": null,
   "metadata": {},
   "outputs": [],
   "source": [
    "# Importing libraries\n",
    "from sklearn.svm import SVC\n",
    "from sklearn.preprocessing import StandardScaler\n",
    "from sklearn.model_selection import RandomizedSearchCV\n",
    "from sklearn.pipeline import Pipeline\n",
    "import pandas as pd\n",
    "import numpy as np\n",
    "import talib as ta\n",
    "import matplotlib.pyplot as plt\n",
    "\n",
    "# Importing data\n",
    "Df = pd.read_csv('ICICI Minute Data.csv')\n",
    "\n",
    "Df = Df.drop(Df[Df['Volume']==0].index)\n",
    "Df['Time']=pd.to_datetime(Df['Time'])\n",
    "\n",
    "# Splitting data\n",
    "t=.8\n",
    "split = int(t*len(Df))\n",
    "\n",
    "# Creating indicators\n",
    "n=10\n",
    "\n",
    "Df['RSI'] = ta.RSI(np.array(Df['Close'].shift(1)), timeperiod=n)\n",
    "Df['SMA']= Df['Close'].shift(1).rolling(window=n).mean()\n",
    "Df['Corr']= Df['Close'].shift(1).rolling(window=n).corr(Df['SMA'].shift(1))\n",
    "\n",
    "#####Type your code below ######"
   ]
  },
  {
   "cell_type": "markdown",
   "metadata": {},
   "source": [
    "## The answer\n"
   ]
  },
  {
   "cell_type": "code",
   "execution_count": null,
   "metadata": {},
   "outputs": [],
   "source": [
    "Df['SAR']=ta.SAR(np.array(Df['High'].shift(1)),np.array(Df['Low'].shift(1)),0.2,0.2)\n"
   ]
  }
 ],
 "metadata": {
  "language_info": {
   "name": "python"
  }
 },
 "nbformat": 4,
 "nbformat_minor": 2
}
