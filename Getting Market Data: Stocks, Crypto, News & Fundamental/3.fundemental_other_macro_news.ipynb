{
 "cells": [
  {
   "cell_type": "markdown",
   "id": "610cbe90",
   "metadata": {},
   "source": [
    "# 📁 Fundamental Data"
   ]
  },
  {
   "cell_type": "markdown",
   "id": "1974d632",
   "metadata": {
    "id": "UpJWvitjaj7i"
   },
   "source": [
    "# Fundamental Data\n",
    "\n",
    "In this notebook, you will learn to fetch fundamental data for stocks. You will fetch data such as balance sheet, cash flow and income statements from the `simfin` package.\n",
    "\n",
    "The notebook is divided into the following parts:\n",
    "\n",
    "1. [Stock Fundamental Data](#data)\n",
    "    1. [Income Statements](#income)\n",
    "    1. [Balance Sheets](#balance)\n",
    "    1. [Cash Flow Statement](#cash)\n",
    "1. [Utility to Fetch Fundamental Data](#func)\n",
    "1. [Plot the Data](#plot)\n",
    "\n",
    "Note: `simfin` is a third party library and is not maintained by QuantInsti. At times, downloading the data may give you errors due to changes in simfin library.\n",
    "\n",
    "In such cases, it is recommended to upgrade the simfin package."
   ]
  },
  {
   "cell_type": "code",
   "execution_count": 1,
   "id": "f5eeda25",
   "metadata": {
    "id": "QbJrBcyFaj7i"
   },
   "outputs": [],
   "source": [
    "# Import the SimFin library\n",
    "import simfin as sf\n",
    "\n",
    "# Import the names used for easy access to SimFin's data-columns\n",
    "from simfin.names import *\n",
    "\n",
    "# Import time manipulation library\n",
    "from datetime import timedelta\n",
    "\n",
    "# Import data manipulation library\n",
    "import pandas as pd\n",
    "\n",
    "# Import matplotlib and set the style for plotting\n",
    "import matplotlib.pyplot as plt\n",
    "%matplotlib inline\n",
    "plt.style.use('seaborn-v0_8-darkgrid')\n",
    "\n",
    "# Ignore warnings\n",
    "import warnings\n",
    "warnings.filterwarnings(\"ignore\")"
   ]
  },
  {
   "cell_type": "code",
   "execution_count": null,
   "id": "b91f0ad1",
   "metadata": {},
   "outputs": [],
   "source": [
    "# Import libraries\n",
    "import os\n",
    "import sys\n",
    "sys.path.append(\"..\")\n",
    "\n",
    "# Input your simfin API key\n",
    "simfin_api_key = \"your_api_key_here\""
   ]
  },
  {
   "cell_type": "markdown",
   "id": "94c9ad1d",
   "metadata": {},
   "source": [
    "# 📁 Ratios from Fundamentals"
   ]
  },
  {
   "cell_type": "markdown",
   "id": "06bde589",
   "metadata": {},
   "source": [
    "# Ratios from Fundamental Data\n",
    "\n",
    "In this notebook, you will learn what fundamental ratios are and why they are important. You will learn how they help in analysing the fundamental data for a company. You will learn to calculate fundamental ratios such as the return on equity (RoE) and current ratio. The ratios can be calculated using the fundamental data of the company fetched in the previous notebook.\n",
    "\n",
    "You will calculate the following ratios:\n",
    "1. [Current Ratio](#current_ratio)\n",
    "1. [Return on Equity (ROE)](#roe)\n",
    "1. [Debt to Equity (D/E) Ratio](#der)\n",
    "\n",
    "Note: `simfin` is a third party library and is not maintained by QuantInsti. At times, downloading the data may give you errors due to changes in simfin library.\n",
    "\n",
    "In such cases, it is recommended to upgrade the simfin package."
   ]
  },
  {
   "cell_type": "code",
   "execution_count": 1,
   "id": "87dfbedf",
   "metadata": {},
   "outputs": [],
   "source": [
    "# Import the SimFin library\n",
    "import simfin as sf\n",
    "\n",
    "# Import the names used for easy access to SimFin's data-columns\n",
    "from simfin.names import *\n",
    "\n",
    "# Import time manipulation library\n",
    "from datetime import timedelta\n",
    "\n",
    "# Import data manipulation library\n",
    "import pandas as pd\n",
    "\n",
    "# Import matplotlib and set the style for plotting\n",
    "import matplotlib.pyplot as plt\n",
    "%matplotlib inline\n",
    "plt.style.use('seaborn-v0_8-darkgrid')\n",
    "\n",
    "# Ignore warnings\n",
    "import warnings\n",
    "warnings.filterwarnings(\"ignore\")"
   ]
  },
  {
   "cell_type": "code",
   "execution_count": null,
   "id": "1632eadc",
   "metadata": {},
   "outputs": [],
   "source": [
    "# Import libraries\n",
    "import os\n",
    "import sys\n",
    "sys.path.append(\"..\")\n",
    "\n",
    "# Input your simfin API key\n",
    "simfin_api_key = \"your_api_key_here\""
   ]
  },
  {
   "cell_type": "markdown",
   "id": "caeabed6",
   "metadata": {},
   "source": [
    "# 📁 Other Company Data"
   ]
  },
  {
   "cell_type": "code",
   "execution_count": 2,
   "id": "8dbae18f",
   "metadata": {},
   "outputs": [],
   "source": [
    "# Define the asset ticker for the company\n",
    "stock_ticker_symbol = 'AAPL'\n",
    "stock_ticker = yf.Ticker(stock_ticker_symbol)"
   ]
  },
  {
   "cell_type": "code",
   "execution_count": 3,
   "id": "7a8d8d93",
   "metadata": {
    "scrolled": true
   },
   "outputs": [
    {
     "data": {
      "text/html": [
       "<div>\n",
       "<style scoped>\n",
       "    .dataframe tbody tr th:only-of-type {\n",
       "        vertical-align: middle;\n",
       "    }\n",
       "\n",
       "    .dataframe tbody tr th {\n",
       "        vertical-align: top;\n",
       "    }\n",
       "\n",
       "    .dataframe thead th {\n",
       "        text-align: right;\n",
       "    }\n",
       "</style>\n",
       "<table border=\"1\" class=\"dataframe\">\n",
       "  <thead>\n",
       "    <tr style=\"text-align: right;\">\n",
       "      <th></th>\n",
       "      <th>EPS Estimate</th>\n",
       "      <th>Reported EPS</th>\n",
       "      <th>Surprise(%)</th>\n",
       "    </tr>\n",
       "    <tr>\n",
       "      <th>Earnings Date</th>\n",
       "      <th></th>\n",
       "      <th></th>\n",
       "      <th></th>\n",
       "    </tr>\n",
       "  </thead>\n",
       "  <tbody>\n",
       "    <tr>\n",
       "      <th>2024-08-01 16:00:00-04:00</th>\n",
       "      <td>1.35</td>\n",
       "      <td>1.40</td>\n",
       "      <td>0.0399</td>\n",
       "    </tr>\n",
       "    <tr>\n",
       "      <th>2024-05-02 16:00:00-04:00</th>\n",
       "      <td>1.50</td>\n",
       "      <td>1.53</td>\n",
       "      <td>0.0197</td>\n",
       "    </tr>\n",
       "    <tr>\n",
       "      <th>2024-02-01 16:00:00-05:00</th>\n",
       "      <td>2.10</td>\n",
       "      <td>2.18</td>\n",
       "      <td>0.0390</td>\n",
       "    </tr>\n",
       "    <tr>\n",
       "      <th>2023-11-02 16:00:00-04:00</th>\n",
       "      <td>1.39</td>\n",
       "      <td>1.46</td>\n",
       "      <td>0.0492</td>\n",
       "    </tr>\n",
       "    <tr>\n",
       "      <th>2023-08-03 16:00:00-04:00</th>\n",
       "      <td>1.19</td>\n",
       "      <td>1.26</td>\n",
       "      <td>0.0549</td>\n",
       "    </tr>\n",
       "  </tbody>\n",
       "</table>\n",
       "</div>"
      ],
      "text/plain": [
       "                           EPS Estimate  Reported EPS  Surprise(%)\n",
       "Earnings Date                                                     \n",
       "2024-08-01 16:00:00-04:00          1.35          1.40       0.0399\n",
       "2024-05-02 16:00:00-04:00          1.50          1.53       0.0197\n",
       "2024-02-01 16:00:00-05:00          2.10          2.18       0.0390\n",
       "2023-11-02 16:00:00-04:00          1.39          1.46       0.0492\n",
       "2023-08-03 16:00:00-04:00          1.19          1.26       0.0549"
      ]
     },
     "execution_count": 3,
     "metadata": {},
     "output_type": "execute_result"
    }
   ],
   "source": [
    "# Fetch the earnings calendar of the stock and store it in a DataFrame\n",
    "earnings_dates = stock_ticker.get_earnings_dates()\n",
    "\n",
    "# Drop the NaN values\n",
    "earnings_dates.dropna(inplace=True)\n",
    "\n",
    "# Print the last 5 rows\n",
    "earnings_dates.head()"
   ]
  },
  {
   "cell_type": "markdown",
   "id": "f73755f6",
   "metadata": {},
   "source": [
    "# 📁 Macro Data"
   ]
  },
  {
   "cell_type": "code",
   "execution_count": 2,
   "id": "38e0b957",
   "metadata": {
    "id": "5TA6TcP5Lgjw",
    "outputId": "711d4011-94b3-4a7e-d581-3052f77b7eb1"
   },
   "outputs": [
    {
     "data": {
      "image/png": "[encoded data removed]",
      "text/plain": [
       "<Figure size 1500x700 with 1 Axes>"
      ]
     },
     "metadata": {},
     "output_type": "display_data"
    }
   ],
   "source": [
    "from fredapi import Fred\n",
    "fred = Fred(get_fred_api())\n",
    "\n",
    "# Get the US GDP\n",
    "# Series ID for US GDP: GDP\n",
    "gdp = fred.get_series('GDP')\n",
    "# Data is fetched in Billions USD, divide by 1000 to convert into Trillions\n",
    "gdp = gdp/1000\n",
    "# Store the last value in 'macro_data'\n",
    "macro_data['US GDP'] = \"{} trillions USD\".format(gdp[-1])\n",
    "\n",
    "# Plot the GDP\n",
    "plt.figure(figsize=(15,7))\n",
    "gdp.plot()\n",
    "# Set the title and axis label\n",
    "plt.title('GDP', fontsize=14)\n",
    "plt.xlabel('Year', fontsize=12)\n",
    "plt.ylabel('Trillions of Dollars', fontsize=12)\n",
    "# Show the plot\n",
    "plt.show()"
   ]
  },
  {
   "cell_type": "code",
   "execution_count": 3,
   "id": "a05fdf78",
   "metadata": {
    "id": "TLWHSSeCWAd2",
    "outputId": "3c43bd65-7ac4-4516-ea66-858a713f8578"
   },
   "outputs": [
    {
     "data": {
      "text/html": [
       "<div>\n",
       "<style scoped>\n",
       "    .dataframe tbody tr th:only-of-type {\n",
       "        vertical-align: middle;\n",
       "    }\n",
       "\n",
       "    .dataframe tbody tr th {\n",
       "        vertical-align: top;\n",
       "    }\n",
       "\n",
       "    .dataframe thead th {\n",
       "        text-align: right;\n",
       "    }\n",
       "</style>\n",
       "<table border=\"1\" class=\"dataframe\">\n",
       "  <thead>\n",
       "    <tr style=\"text-align: right;\">\n",
       "      <th></th>\n",
       "      <th>Country</th>\n",
       "      <th>NY.GDP.MKTP.CD</th>\n",
       "    </tr>\n",
       "    <tr>\n",
       "      <th>economy</th>\n",
       "      <th></th>\n",
       "      <th></th>\n",
       "    </tr>\n",
       "  </thead>\n",
       "  <tbody>\n",
       "    <tr>\n",
       "      <th>WLD</th>\n",
       "      <td>World</td>\n",
       "      <td>1.054350e+14</td>\n",
       "    </tr>\n",
       "    <tr>\n",
       "      <th>HIC</th>\n",
       "      <td>High income</td>\n",
       "      <td>6.765374e+13</td>\n",
       "    </tr>\n",
       "    <tr>\n",
       "      <th>OED</th>\n",
       "      <td>OECD members</td>\n",
       "      <td>6.409887e+13</td>\n",
       "    </tr>\n",
       "    <tr>\n",
       "      <th>PST</th>\n",
       "      <td>Post-demographic dividend</td>\n",
       "      <td>5.985180e+13</td>\n",
       "    </tr>\n",
       "    <tr>\n",
       "      <th>IBT</th>\n",
       "      <td>IDA &amp; IBRD total</td>\n",
       "      <td>4.155972e+13</td>\n",
       "    </tr>\n",
       "    <tr>\n",
       "      <th>IBD</th>\n",
       "      <td>IBRD only</td>\n",
       "      <td>3.873304e+13</td>\n",
       "    </tr>\n",
       "    <tr>\n",
       "      <th>LMY</th>\n",
       "      <td>Low &amp; middle income</td>\n",
       "      <td>3.742521e+13</td>\n",
       "    </tr>\n",
       "    <tr>\n",
       "      <th>MIC</th>\n",
       "      <td>Middle income</td>\n",
       "      <td>3.678694e+13</td>\n",
       "    </tr>\n",
       "    <tr>\n",
       "      <th>EAS</th>\n",
       "      <td>East Asia &amp; Pacific</td>\n",
       "      <td>3.077566e+13</td>\n",
       "    </tr>\n",
       "    <tr>\n",
       "      <th>NAC</th>\n",
       "      <td>North America</td>\n",
       "      <td>2.950930e+13</td>\n",
       "    </tr>\n",
       "  </tbody>\n",
       "</table>\n",
       "</div>"
      ],
      "text/plain": [
       "                           Country  NY.GDP.MKTP.CD\n",
       "economy                                           \n",
       "WLD                          World    1.054350e+14\n",
       "HIC                    High income    6.765374e+13\n",
       "OED                   OECD members    6.409887e+13\n",
       "PST      Post-demographic dividend    5.985180e+13\n",
       "IBT               IDA & IBRD total    4.155972e+13\n",
       "IBD                      IBRD only    3.873304e+13\n",
       "LMY            Low & middle income    3.742521e+13\n",
       "MIC                  Middle income    3.678694e+13\n",
       "EAS            East Asia & Pacific    3.077566e+13\n",
       "NAC                  North America    2.950930e+13"
      ]
     },
     "execution_count": 3,
     "metadata": {},
     "output_type": "execute_result"
    }
   ],
   "source": [
    "import wbgapi as wb\n",
    "ny_gdp = wb.data.DataFrame(['ny.gdp.mktp.cd'], \n",
    "                           mrv=1, \n",
    "                           labels=True).dropna().sort_values(by='NY.GDP.MKTP.CD',\n",
    "                                                             ascending=False)[:10]\n",
    "\n",
    "ny_gdp"
   ]
  },
  {
   "cell_type": "markdown",
   "id": "c96929f7",
   "metadata": {},
   "source": [
    "# 📁 News Headlines"
   ]
  },
  {
   "cell_type": "markdown",
   "id": "3ea7dcb4",
   "metadata": {
    "id": "WWSuv0eirwDg"
   },
   "source": [
    "## Recent News Headlines\n",
    "\n",
    "There are various Python APIs such as [Webhose](http://webhose.io/), [NewsAPI](http://newsapi.org/pricing), [News Fetch](https://pypi.org/project/news-fetch/), [GoogleNews](http://pypi.org/project/GoogleNews/) etc. which aggregate news headlines from various media sources. The framework for using these APIs/libraries are somewhat similar. \n",
    "\n",
    "The general steps are:\n",
    "\n",
    "1. Install and import the library\n",
    "\n",
    "2. Get API key (Not required in some cases)\n",
    "\n",
    "2. Use filters such as keywords, language, timeframe etc. \n",
    "\n",
    "3. Fetch articles\n",
    "\n",
    "To use a specific API/library, you need to read its documentation.  \n",
    "\n",
    "\n",
    "In this notebook, you will learn how to fetch news articles from the [NewsAPI](http://newsapi.org/pricing). We will follow the below steps:\n",
    "\n",
    "1. Import NewsAPI library\n",
    "2. Get the API Key\n",
    "3. Apply filters\n",
    "3. Fetch the news articles"
   ]
  },
  {
   "cell_type": "code",
   "execution_count": 1,
   "id": "7b97083d",
   "metadata": {},
   "outputs": [
    {
     "name": "stdout",
     "output_type": "stream",
     "text": [
      "Requirement already satisfied: newsapi-python in /home/nb-user/.conda/envs/quantra_py/lib/python3.11/site-packages (0.2.7)\n",
      "Requirement already satisfied: requests<3.0.0 in /home/nb-user/.conda/envs/quantra_py/lib/python3.11/site-packages (from newsapi-python) (2.32.3)\n",
      "Requirement already satisfied: charset_normalizer<4,>=2 in /home/nb-user/.conda/envs/quantra_py/lib/python3.11/site-packages (from requests<3.0.0->newsapi-python) (3.4.1)\n",
      "Requirement already satisfied: idna<4,>=2.5 in /home/nb-user/.conda/envs/quantra_py/lib/python3.11/site-packages (from requests<3.0.0->newsapi-python) (3.10)\n",
      "Requirement already satisfied: urllib3<3,>=1.21.1 in /home/nb-user/.conda/envs/quantra_py/lib/python3.11/site-packages (from requests<3.0.0->newsapi-python) (1.26.20)\n",
      "Requirement already satisfied: certifi>=2017.4.17 in /home/nb-user/.conda/envs/quantra_py/lib/python3.11/site-packages (from requests<3.0.0->newsapi-python) (2025.1.31)\n"
     ]
    }
   ],
   "source": [
    "!pip install newsapi-python"
   ]
  },
  {
   "cell_type": "code",
   "execution_count": 2,
   "id": "10bea609",
   "metadata": {
    "id": "sbwHodXPrwDh"
   },
   "outputs": [],
   "source": [
    "# Import pandas and numpy\n",
    "import pandas as pd\n",
    "import numpy as np\n",
    "\n",
    "# Import NewsAPI module\n",
    "from newsapi import NewsApiClient\n",
    "\n",
    "import warnings\n",
    "warnings.simplefilter('ignore')"
   ]
  }
 ],
 "metadata": {
  "language_info": {
   "name": "python"
  }
 },
 "nbformat": 4,
 "nbformat_minor": 5
}
