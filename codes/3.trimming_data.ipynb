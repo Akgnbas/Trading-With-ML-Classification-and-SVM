{
 "cells": [
  {
   "cell_type": "markdown",
   "metadata": {},
   "source": [
    "## Question\n",
    "\n",
    "In this exercise, you will learn to trim the values in the correlation column of the data frame Df to 1 and -1, wherever they are more than +1 and less than -1 respectively.\n",
    "Instructions\n",
    "\n",
    "In this exercise, you are required to code two lines:\n",
    " \n",
    "1. Change all correlation values less than -1 to -1.\n",
    "The syntax is as follows:\n",
    "df.loc[condition, column_to_assign_value] = value_to_assign\n",
    " \n",
    "2. Similarly, change all correlation values more than 1 to 1 using the 'loc' function. \n"
   ]
  },
  {
   "cell_type": "code",
   "execution_count": null,
   "metadata": {},
   "outputs": [],
   "source": [
    "# Importing libraries\n",
    "from sklearn.svm import SVC\n",
    "from sklearn.preprocessing import StandardScaler\n",
    "from sklearn.model_selection import RandomizedSearchCV\n",
    "from sklearn.pipeline import Pipeline\n",
    "import pandas as pd\n",
    "import numpy as np\n",
    "import talib as ta\n",
    "import matplotlib.pyplot as plt\n",
    "\n",
    "# Importing data\n",
    "Df = pd.read_csv('ICICI Minute Data.csv')\n",
    "\n",
    "Df = Df.drop(Df[Df['Volume']==0].index)\n",
    "Df['Time']=pd.to_datetime(Df['Time'])\n",
    "\n",
    "# Splitting data\n",
    "t=.8\n",
    "split = int(t*len(Df))\n",
    "\n",
    "# Creating indicators\n",
    "n=10\n",
    "\n",
    "Df['RSI'] = ta.RSI(np.array(Df['Close'].shift(1)), timeperiod=n)\n",
    "Df['SMA']= Df['Close'].shift(1).rolling(window=n).mean()\n",
    "Df['Corr']= Df['Close'].shift(1).rolling(window=n).corr(Df['SMA'].shift(1))\n",
    "Df['SAR']=ta.SAR(np.array(Df['High'].shift(1)),np.array(Df['Low'].shift(1)),0.2,0.2)\n",
    "Df['ADX']=ta.ADX(np.array(Df['High'].shift(1)),np.array(Df['Low'].shift(1)),np.array(Df['Open']), timeperiod =n)\n",
    "\n",
    "Df['open'] = Df['Open'].shift(1)\n",
    "Df['close'] = Df['Close'].shift(1)\n",
    "Df['high'] = Df['High'].shift(1)\n",
    "Df['low'] = Df['Low'].shift(1)\n",
    "Df['OO'] = Df['Open']-Df['open']\n",
    "Df['OC'] = Df['Open']-Df['close']\n",
    "\n",
    "Df['Ret'] = (Df['Open'].shift(-1)-Df['Open'])/Df['Open']\n",
    "for i in range(1,n):\n",
    "    Df['return%i'%i] = Df['Ret'].shift(i)\n",
    "\n",
    "#####Type your code below ######"
   ]
  },
  {
   "cell_type": "markdown",
   "metadata": {},
   "source": [
    "## Solution"
   ]
  },
  {
   "cell_type": "code",
   "execution_count": null,
   "metadata": {},
   "outputs": [],
   "source": [
    "Df.loc[Df['Corr']<-1,'Corr']=-1\n",
    "Df.loc[Df['Corr']>1,'Corr']=1"
   ]
  },
  {
   "cell_type": "markdown",
   "metadata": {},
   "source": [
    "## Explanation\n",
    "\n",
    "\t•\tDf['Corr'] < -1: This creates a boolean mask — a Series of True or False values.\n",
    "\t•\tDf.loc[... , 'Corr']: Selects only the rows where the condition is True, but only for the ‘Corr’ column.\n",
    "\t•\t= -1: Assigns -1 to those rows.\n",
    "\n",
    "➡️ In short: “For every row where the correlation is below -1, set it to -1.” and “For every row where the correlation is above 1, set it to 1.”"
   ]
  }
 ],
 "metadata": {
  "language_info": {
   "name": "python"
  }
 },
 "nbformat": 4,
 "nbformat_minor": 2
}
