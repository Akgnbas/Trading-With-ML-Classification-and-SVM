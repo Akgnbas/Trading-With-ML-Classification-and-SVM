{
 "cells": [
  {
   "cell_type": "markdown",
   "metadata": {},
   "source": [
    "## Question\n",
    "\n",
    "In this exercise, you will learn to change the Signal values in the lower one-third of the ‘Ret’ column to -1 and at the closing time to 0.\n",
    "\n",
    "Note: The closing time for Indian markets is 15:30 hours.\n",
    "Instructions\n",
    "\n",
    "In this exercise, you are required to code 2 lines:\n",
    "1. Change all Signal values to ‘-1', when returns, ‘Ret’, lie in the quantile less than 0.34.\n",
    "\n",
    "Hint: Check out the line just above your work area, that changes the ‘Signal’ values to ‘1’ for returns lying in quantiles greater than 0.66.\n",
    " \n",
    "2. Change all Signal values at the time 15 hours and 29 minutes to '0'.\n",
    "To do this, on column ‘Time’ of the data frame 'Df', apply functions '.dt.hour' and '.dt.minute' to locate the position to be changed."
   ]
  },
  {
   "cell_type": "code",
   "execution_count": null,
   "metadata": {},
   "outputs": [],
   "source": [
    "# Importing libraries\n",
    "from sklearn.svm import SVC\n",
    "from sklearn.preprocessing import StandardScaler\n",
    "from sklearn.model_selection import RandomizedSearchCV\n",
    "from sklearn.pipeline import Pipeline\n",
    "import pandas as pd\n",
    "import numpy as np\n",
    "import talib as ta\n",
    "import matplotlib.pyplot as plt\n",
    "\n",
    "# Importing data\n",
    "Df = pd.read_csv('ICICI Minute Data.csv')\n",
    "\n",
    "Df = Df.drop(Df[Df['Volume']==0].index)\n",
    "Df['Time']=pd.to_datetime(Df['Time'])\n",
    "\n",
    "# Splitting data\n",
    "t=.8\n",
    "split = int(t*len(Df))\n",
    "\n",
    "# Creating indicators\n",
    "n=10\n",
    "\n",
    "Df['RSI'] = ta.RSI(np.array(Df['Close'].shift(1)), timeperiod=n)\n",
    "Df['SMA']= Df['Close'].shift(1).rolling(window=n).mean()\n",
    "Df['Corr']= Df['Close'].shift(1).rolling(window=n).corr(Df['SMA'].shift(1))\n",
    "Df['SAR']=ta.SAR(np.array(Df['High'].shift(1)),np.array(Df['Low'].shift(1)),0.2,0.2)\n",
    "Df['ADX']=ta.ADX(np.array(Df['High'].shift(1)),np.array(Df['Low'].shift(1)),np.array(Df['Open']), timeperiod =n)\n",
    "\n",
    "Df['open'] = Df['Open'].shift(1)\n",
    "Df['close'] = Df['Close'].shift(1)\n",
    "Df['high'] = Df['High'].shift(1)\n",
    "Df['low'] = Df['Low'].shift(1)\n",
    "Df['OO'] = Df['Open']-Df['open']\n",
    "Df['OC'] = Df['Open']-Df['close']\n",
    "\n",
    "Df['Ret'] = (Df['Open'].shift(-1)-Df['Open'])/Df['Open']\n",
    "for i in range(1,n):\n",
    "    Df['return%i'%i] = Df['Ret'].shift(i)\n",
    "\n",
    "# Trimming the data\n",
    "Df.loc[Df['Corr']<-1,'Corr']=-1\n",
    "Df.loc[Df['Corr']>1,'Corr']=1\n",
    "Df=Df.dropna()\n",
    "\n",
    "# Creating output signal\n",
    "Df['Signal']=0\n",
    "Df.loc[Df['Ret']>Df['Ret'][:split].quantile(q=0.66),'Signal']=1\n",
    "\n",
    "#####Type your code below ######"
   ]
  },
  {
   "cell_type": "markdown",
   "metadata": {},
   "source": [
    "## Answer"
   ]
  },
  {
   "cell_type": "code",
   "execution_count": null,
   "metadata": {},
   "outputs": [],
   "source": [
    "Df.loc[Df['Ret']<Df['Ret'][:split].quantile(q=0.34),'Signal']=-1\n",
    "Df.loc[(Df['Time'].dt.hour==15) & (Df['Time'].dt.minute==29), 'Signal']=02"
   ]
  },
  {
   "cell_type": "markdown",
   "metadata": {},
   "source": [
    "## Explanation\n",
    "\n",
    "What this does:\n",
    "\t•\tDf['Ret'][:split]: uses training portion of the data\n",
    "\t•\t.quantile(0.34): finds the 34th percentile (lower third)\n",
    "\t•\tDf['Ret'] < ...: filters returns below this threshold\n",
    "\t•\t'Signal'] = -1: marks them as sell signals\n",
    "\n",
    "“If the return is in the lowest third, we predict a price drop → set signal to -1.”\n",
    "\n",
    "\t•\tDf['Time'].dt.hour == 15 and .dt.minute == 29 → selects time 15:29\n",
    "\t•\t'Signal'] = 0: sets it to neutral\n",
    "\n",
    "\"At market close, we don’t want to hold a position, so we reset the signal.\""
   ]
  }
 ],
 "metadata": {
  "language_info": {
   "name": "python"
  }
 },
 "nbformat": 4,
 "nbformat_minor": 2
}
